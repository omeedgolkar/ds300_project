{
 "cells": [
  {
   "cell_type": "markdown",
   "id": "d7cb3668-4a26-4b2c-9477-6e0595cd30d4",
   "metadata": {},
   "source": [
    "\n",
    "# DS3000 Project\n",
    "\n",
    "## Omeed Golkaryeh, Clayton Yan, & Juli Piyapayawongse\n"
   ]
  },
  {
   "cell_type": "code",
   "execution_count": 2,
   "id": "a1ce3236-1bc3-4f44-9785-128edc444ab1",
   "metadata": {},
   "outputs": [],
   "source": [
    "import pandas as pd"
   ]
  },
  {
   "cell_type": "code",
   "execution_count": 3,
   "id": "30e25a2f-840c-4ab8-b732-cc6b5cfc28bc",
   "metadata": {},
   "outputs": [],
   "source": [
    "pd.set_option('display.max_columns', None)\n",
    "pd.set_option('display.max_rows', None)\n",
    "pd.set_option('precision', 2)"
   ]
  },
  {
   "cell_type": "code",
   "execution_count": 6,
   "id": "0bb28a71-21c9-4f30-9cb2-e020afa75690",
   "metadata": {},
   "outputs": [],
   "source": [
    "filepath = 'Coffee Quality database from CQI/merged_data_cleaned.csv'"
   ]
  },
  {
   "cell_type": "code",
   "execution_count": 13,
   "id": "bf4b846c-aa47-4913-8632-0e01118cf2fc",
   "metadata": {},
   "outputs": [
    {
     "data": {
      "text/plain": [
       "Arabica    1311\n",
       "Robusta      28\n",
       "Name: Species, dtype: int64"
      ]
     },
     "execution_count": 13,
     "metadata": {},
     "output_type": "execute_result"
    }
   ],
   "source": [
    "data = pd.read_csv(filepath)\n",
    "data.head()\n",
    "\n",
    "data['Species'].value_counts()"
   ]
  },
  {
   "cell_type": "code",
   "execution_count": null,
   "id": "fa3c6768-6a22-4a85-891b-bf5e0482c2e1",
   "metadata": {},
   "outputs": [],
   "source": [
    "data = data[(data.loc[:, 'Country.of.Origin'].notna()) &\n",
    "           (data['Species'] == 'Arabica')]\n",
    "data.tail()"
   ]
  },
  {
   "cell_type": "code",
   "execution_count": 8,
   "id": "591e135e-c502-4115-86d6-8a3f77766b4f",
   "metadata": {},
   "outputs": [],
   "source": [
    "def features_and_target(df):\n",
    "    features = df.iloc[:,21:33]\n",
    "    target = df.loc[:, 'Country.of.Origin']\n",
    "    return (features, target)"
   ]
  },
  {
   "cell_type": "code",
   "execution_count": 9,
   "id": "6f45d88e-b91e-434a-9456-6382a3872760",
   "metadata": {},
   "outputs": [],
   "source": [
    "features, target = features_and_target(data)"
   ]
  },
  {
   "cell_type": "code",
   "execution_count": 10,
   "id": "0a75c39e",
   "metadata": {},
   "outputs": [
    {
     "data": {
      "text/html": [
       "<div>\n",
       "<style scoped>\n",
       "    .dataframe tbody tr th:only-of-type {\n",
       "        vertical-align: middle;\n",
       "    }\n",
       "\n",
       "    .dataframe tbody tr th {\n",
       "        vertical-align: top;\n",
       "    }\n",
       "\n",
       "    .dataframe thead th {\n",
       "        text-align: right;\n",
       "    }\n",
       "</style>\n",
       "<table border=\"1\" class=\"dataframe\">\n",
       "  <thead>\n",
       "    <tr style=\"text-align: right;\">\n",
       "      <th></th>\n",
       "      <th>Flavor</th>\n",
       "      <th>Aftertaste</th>\n",
       "      <th>Acidity</th>\n",
       "      <th>Body</th>\n",
       "      <th>Balance</th>\n",
       "      <th>Uniformity</th>\n",
       "      <th>Clean.Cup</th>\n",
       "      <th>Sweetness</th>\n",
       "      <th>Cupper.Points</th>\n",
       "      <th>Total.Cup.Points</th>\n",
       "      <th>Moisture</th>\n",
       "      <th>Category.One.Defects</th>\n",
       "    </tr>\n",
       "  </thead>\n",
       "  <tbody>\n",
       "    <tr>\n",
       "      <th>0</th>\n",
       "      <td>8.83</td>\n",
       "      <td>8.67</td>\n",
       "      <td>8.75</td>\n",
       "      <td>8.50</td>\n",
       "      <td>8.42</td>\n",
       "      <td>10.0</td>\n",
       "      <td>10.0</td>\n",
       "      <td>10.0</td>\n",
       "      <td>8.75</td>\n",
       "      <td>90.58</td>\n",
       "      <td>0.12</td>\n",
       "      <td>0</td>\n",
       "    </tr>\n",
       "    <tr>\n",
       "      <th>1</th>\n",
       "      <td>8.67</td>\n",
       "      <td>8.50</td>\n",
       "      <td>8.58</td>\n",
       "      <td>8.42</td>\n",
       "      <td>8.42</td>\n",
       "      <td>10.0</td>\n",
       "      <td>10.0</td>\n",
       "      <td>10.0</td>\n",
       "      <td>8.58</td>\n",
       "      <td>89.92</td>\n",
       "      <td>0.12</td>\n",
       "      <td>0</td>\n",
       "    </tr>\n",
       "    <tr>\n",
       "      <th>2</th>\n",
       "      <td>8.50</td>\n",
       "      <td>8.42</td>\n",
       "      <td>8.42</td>\n",
       "      <td>8.33</td>\n",
       "      <td>8.42</td>\n",
       "      <td>10.0</td>\n",
       "      <td>10.0</td>\n",
       "      <td>10.0</td>\n",
       "      <td>9.25</td>\n",
       "      <td>89.75</td>\n",
       "      <td>0.00</td>\n",
       "      <td>0</td>\n",
       "    </tr>\n",
       "    <tr>\n",
       "      <th>3</th>\n",
       "      <td>8.58</td>\n",
       "      <td>8.42</td>\n",
       "      <td>8.42</td>\n",
       "      <td>8.50</td>\n",
       "      <td>8.25</td>\n",
       "      <td>10.0</td>\n",
       "      <td>10.0</td>\n",
       "      <td>10.0</td>\n",
       "      <td>8.67</td>\n",
       "      <td>89.00</td>\n",
       "      <td>0.11</td>\n",
       "      <td>0</td>\n",
       "    </tr>\n",
       "    <tr>\n",
       "      <th>4</th>\n",
       "      <td>8.50</td>\n",
       "      <td>8.25</td>\n",
       "      <td>8.50</td>\n",
       "      <td>8.42</td>\n",
       "      <td>8.33</td>\n",
       "      <td>10.0</td>\n",
       "      <td>10.0</td>\n",
       "      <td>10.0</td>\n",
       "      <td>8.58</td>\n",
       "      <td>88.83</td>\n",
       "      <td>0.12</td>\n",
       "      <td>0</td>\n",
       "    </tr>\n",
       "  </tbody>\n",
       "</table>\n",
       "</div>"
      ],
      "text/plain": [
       "   Flavor  Aftertaste  Acidity  Body  Balance  Uniformity  Clean.Cup  \\\n",
       "0    8.83        8.67     8.75  8.50     8.42        10.0       10.0   \n",
       "1    8.67        8.50     8.58  8.42     8.42        10.0       10.0   \n",
       "2    8.50        8.42     8.42  8.33     8.42        10.0       10.0   \n",
       "3    8.58        8.42     8.42  8.50     8.25        10.0       10.0   \n",
       "4    8.50        8.25     8.50  8.42     8.33        10.0       10.0   \n",
       "\n",
       "   Sweetness  Cupper.Points  Total.Cup.Points  Moisture  Category.One.Defects  \n",
       "0       10.0           8.75             90.58      0.12                     0  \n",
       "1       10.0           8.58             89.92      0.12                     0  \n",
       "2       10.0           9.25             89.75      0.00                     0  \n",
       "3       10.0           8.67             89.00      0.11                     0  \n",
       "4       10.0           8.58             88.83      0.12                     0  "
      ]
     },
     "execution_count": 10,
     "metadata": {},
     "output_type": "execute_result"
    }
   ],
   "source": [
    "features.head()"
   ]
  },
  {
   "cell_type": "code",
   "execution_count": 11,
   "id": "fc18f7b9",
   "metadata": {},
   "outputs": [
    {
     "data": {
      "text/plain": [
       "0.2774390243902439"
      ]
     },
     "execution_count": 11,
     "metadata": {},
     "output_type": "execute_result"
    }
   ],
   "source": [
    "from sklearn.model_selection import train_test_split\n",
    "from sklearn.neighbors import KNeighborsClassifier\n",
    "\n",
    "X_train, X_test, y_train, y_test = train_test_split(features, target, random_state=3000)\n",
    "\n",
    "knn = KNeighborsClassifier()\n",
    "\n",
    "knn.fit(X=X_train, y=y_train)\n",
    "\n",
    "predicted = knn.predict(X=X_test)\n",
    "\n",
    "knn.score(X_test, y_test)"
   ]
  },
  {
   "cell_type": "code",
   "execution_count": 12,
   "id": "cbc76f41",
   "metadata": {},
   "outputs": [
    {
     "data": {
      "text/plain": [
       "Mexico                          236\n",
       "Colombia                        183\n",
       "Guatemala                       181\n",
       "Brazil                          132\n",
       "Taiwan                           75\n",
       "United States (Hawaii)           73\n",
       "Honduras                         53\n",
       "Costa Rica                       51\n",
       "Ethiopia                         44\n",
       "Tanzania, United Republic Of     40\n",
       "Thailand                         32\n",
       "Uganda                           26\n",
       "Nicaragua                        26\n",
       "Kenya                            25\n",
       "El Salvador                      21\n",
       "Indonesia                        20\n",
       "China                            16\n",
       "Malawi                           11\n",
       "Peru                             10\n",
       "Myanmar                           8\n",
       "United States                     8\n",
       "Vietnam                           7\n",
       "Haiti                             6\n",
       "Philippines                       5\n",
       "United States (Puerto Rico)       4\n",
       "Panama                            4\n",
       "Laos                              3\n",
       "Burundi                           2\n",
       "Papua New Guinea                  1\n",
       "Rwanda                            1\n",
       "Japan                             1\n",
       "Cote d?Ivoire                     1\n",
       "Ecuador                           1\n",
       "Mauritius                         1\n",
       "India                             1\n",
       "Zambia                            1\n",
       "Name: Country.of.Origin, dtype: int64"
      ]
     },
     "execution_count": 12,
     "metadata": {},
     "output_type": "execute_result"
    }
   ],
   "source": [
    "target.value_counts()"
   ]
  },
  {
   "cell_type": "code",
   "execution_count": null,
   "id": "4f3d6922-545e-46fe-afde-06610a7cd235",
   "metadata": {},
   "outputs": [],
   "source": []
  }
 ],
 "metadata": {
  "kernelspec": {
   "display_name": "Python 3",
   "language": "python",
   "name": "python3"
  },
  "language_info": {
   "codemirror_mode": {
    "name": "ipython",
    "version": 3
   },
   "file_extension": ".py",
   "mimetype": "text/x-python",
   "name": "python",
   "nbconvert_exporter": "python",
   "pygments_lexer": "ipython3",
   "version": "3.8.5"
  }
 },
 "nbformat": 4,
 "nbformat_minor": 5
}
